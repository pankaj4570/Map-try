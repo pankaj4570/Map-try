{
 "cells": [
  {
   "cell_type": "code",
   "execution_count": 1,
   "metadata": {},
   "outputs": [],
   "source": [
    "#v Basic modules\n",
    "import gmplot\n",
    "import numpy as np\n",
    "import pandas as pd\n",
    "import matplotlib.pyplot as plt\n",
    "from matplotlib import cm\n",
    "%matplotlib inline"
   ]
  },
  {
   "cell_type": "code",
   "execution_count": 68,
   "metadata": {},
   "outputs": [],
   "source": [
    "#Importing folium for map and os module providing the path acess for the file\n",
    "import folium\n",
    "import os\n",
    "import json"
   ]
  },
  {
   "cell_type": "code",
   "execution_count": 20,
   "metadata": {},
   "outputs": [],
   "source": [
    "# \"\"\"\n",
    "# Simple Program to help you get started with Google's APIs\n",
    "# \"\"\"\n",
    "# import urllib.request, json\n",
    "# #Google MapsDdirections API endpoint\n",
    "# endpoint = 'https://maps.googleapis.com/maps/api/directions/json?'\n",
    "# api_key = ''\n",
    "# #Asks the user to input Where they are and where they want to go.\n",
    "# origin = input('Where are you?: ').replace(' ','+')\n",
    "# destination = input('Where do you want to go?: ').replace(' ','+')\n",
    "# #Building the URL for the request\n",
    "# nav_request = 'origin={}&destination={}&key={}'.format(origin,destination,api_key)\n",
    "# request = endpoint + nav_request\n",
    "# #Sends the request and reads the response.\n",
    "# response = urllib.request.urlopen(request).read()\n",
    "# #Loads response as JSON\n",
    "# directions = json.loads(response)\n",
    "# print(directions)"
   ]
  },
  {
   "cell_type": "code",
   "execution_count": null,
   "metadata": {},
   "outputs": [],
   "source": []
  },
  {
   "cell_type": "markdown",
   "metadata": {},
   "source": [
    "# Reverse Geo-coding"
   ]
  },
  {
   "cell_type": "code",
   "execution_count": null,
   "metadata": {},
   "outputs": [],
   "source": [
    "# \n",
    "# # Importing reverse_geocoder module after installing it\n",
    "# import reverse_geocoder as rg\n",
    "# # Function to look with lat and long and coverts into the location name\n",
    "# #But the problem is that it takes too much time to execute\n",
    "# def reverseGeocode(lat, long): \n",
    "#     start_time=time.time()\n",
    "#     try:\n",
    "#         result = rg.search((lat, long))\n",
    "#         output = result[0]['name']\n",
    "#         end_time=time.time()\n",
    "#         print(end_time-start_time)\n",
    "#     except:\n",
    "#         print('Error in Geocoding')\n",
    "#         output = 'tbf'\n",
    "#     # result is a list containing ordered dictionary. \n",
    "#     return output\n",
    "\n",
    "\n",
    "\n",
    "\n",
    "\n",
    "# import time\n",
    "# # Reverse geo-coding using the geopy module\n",
    "# def revrse_geo(lat, lon):\n",
    "#     start_time =time.time()\n",
    "#     cord=(lat, lon)\n",
    "#     from geopy import Nominatim\n",
    "#     geolocater= Nominatim(user_agent='test')\n",
    "#     try:\n",
    "#         location=geolocater.reverse(cord)\n",
    "#         output= location.raw['address']['town']\n",
    "#         end_time=time.time()\n",
    "#         print(end_time-start_time)\n",
    "#     except:\n",
    "#         print('error in geo_coding')\n",
    "#         output='tbf'\n",
    "#     return output"
   ]
  },
  {
   "cell_type": "code",
   "execution_count": 101,
   "metadata": {},
   "outputs": [],
   "source": [
    "df_raw = pd.read_csv('route1.csv')\n"
   ]
  },
  {
   "cell_type": "code",
   "execution_count": 57,
   "metadata": {},
   "outputs": [],
   "source": [
    "# Applied reverse geocoding using lambda and coverted 45 lat lon to post name and saving to the existing dataframe.\n",
    "\n",
    "# temp_data['port']=temp_data.apply(lambda x : reverseGeocode(x['lat'],x['lon']), axis =1)\n",
    "# df['port_name']=df.apply(lambda x: reverseGeocode(x['lat'], x['lon']), axis = 1 )"
   ]
  },
  {
   "cell_type": "code",
   "execution_count": 58,
   "metadata": {},
   "outputs": [],
   "source": [
    "# data_points = [(xy) for xy in zip(lat, lon)]"
   ]
  },
  {
   "cell_type": "code",
   "execution_count": null,
   "metadata": {},
   "outputs": [],
   "source": [
    "# Plotting available coordinates on the OSM html page.\n",
    "# Importing the json module \n",
    "import json\n",
    "def route_plotter(df, prev_port, next_port):\n",
    "    df = df.groupby(['prev_port','next_port','lat', 'lon']).count()\n",
    "    df = df.drop(['trip_count','frequency'], axis = 1)\n",
    "    df = df.loc[prev_port,next_port].reset_index()\n",
    "    #coordinates from the dataframe\n",
    "    plot_points = [xy for xy in zip(df['lat'], df['lon'])]\n",
    "    #Opening the geojson.io file to add the desired coordinates on the map\n",
    "    # opening the json file to read as dictionary\n",
    "    with open('route.json') as js:\n",
    "        js_data = json.load(js)\n",
    "        js_data['features'][0]['geometry']['coordinates']= plot_points\n",
    "    # Initializing the map using the folium module\n",
    "    m = folium.Map(location=[i for i in plot_points[0]], zoom_start=10,tiles = 'Stamen Terrain')\n",
    "    # Adding lat-long pop up wherever we click on the map\n",
    "    folium.LatLngPopup().add_to(m).to_json\n",
    "    # Adding Marker will pop up clicking on the map\n",
    "    folium.ClickForMarker().add_to(m)\n",
    "    folium.GeoJson(js_data, name='walk').add_to(m)\n",
    "    for i in plot_points:\n",
    "        folium.Marker(i,popup=\"POP\", tooltip = 'from {} to {}'.format(prev_port, next_port)).add_to(m)\n",
    "    \n",
    "    return m.save('map1.html')   \n"
   ]
  },
  {
   "cell_type": "code",
   "execution_count": null,
   "metadata": {},
   "outputs": [],
   "source": [
    "route_plotter(df,26, 2403)"
   ]
  },
  {
   "cell_type": "code",
   "execution_count": 128,
   "metadata": {},
   "outputs": [],
   "source": []
  },
  {
   "cell_type": "code",
   "execution_count": 129,
   "metadata": {
    "scrolled": true
   },
   "outputs": [
    {
     "data": {
      "text/html": [
       "<div>\n",
       "<style scoped>\n",
       "    .dataframe tbody tr th:only-of-type {\n",
       "        vertical-align: middle;\n",
       "    }\n",
       "\n",
       "    .dataframe tbody tr th {\n",
       "        vertical-align: top;\n",
       "    }\n",
       "\n",
       "    .dataframe thead th {\n",
       "        text-align: right;\n",
       "    }\n",
       "</style>\n",
       "<table border=\"1\" class=\"dataframe\">\n",
       "  <thead>\n",
       "    <tr style=\"text-align: right;\">\n",
       "      <th></th>\n",
       "      <th></th>\n",
       "      <th></th>\n",
       "      <th></th>\n",
       "    </tr>\n",
       "    <tr>\n",
       "      <th>prev_port</th>\n",
       "      <th>next_port</th>\n",
       "      <th>lat</th>\n",
       "      <th>lon</th>\n",
       "    </tr>\n",
       "  </thead>\n",
       "  <tbody>\n",
       "    <tr>\n",
       "      <td rowspan=\"5\" valign=\"top\">26</td>\n",
       "      <td rowspan=\"5\" valign=\"top\">1975</td>\n",
       "      <td>1.204667</td>\n",
       "      <td>103.859833</td>\n",
       "    </tr>\n",
       "    <tr>\n",
       "      <td>1.264167</td>\n",
       "      <td>104.033667</td>\n",
       "    </tr>\n",
       "    <tr>\n",
       "      <td>1.264733</td>\n",
       "      <td>104.037367</td>\n",
       "    </tr>\n",
       "    <tr>\n",
       "      <td>1.270497</td>\n",
       "      <td>104.049620</td>\n",
       "    </tr>\n",
       "    <tr>\n",
       "      <td>1.271098</td>\n",
       "      <td>104.055180</td>\n",
       "    </tr>\n",
       "  </tbody>\n",
       "</table>\n",
       "</div>"
      ],
      "text/plain": [
       "Empty DataFrame\n",
       "Columns: []\n",
       "Index: [(26, 1975, 1.20466667, 103.85983333), (26, 1975, 1.26416667, 104.03366667), (26, 1975, 1.26473333, 104.03736667), (26, 1975, 1.27049667, 104.04961999999999), (26, 1975, 1.27109833, 104.05518000000001)]"
      ]
     },
     "execution_count": 129,
     "metadata": {},
     "output_type": "execute_result"
    }
   ],
   "source": [
    "df2.head()"
   ]
  }
 ],
 "metadata": {
  "kernelspec": {
   "display_name": "Python 3",
   "language": "python",
   "name": "python3"
  },
  "language_info": {
   "codemirror_mode": {
    "name": "ipython",
    "version": 3
   },
   "file_extension": ".py",
   "mimetype": "text/x-python",
   "name": "python",
   "nbconvert_exporter": "python",
   "pygments_lexer": "ipython3",
   "version": "3.7.4"
  }
 },
 "nbformat": 4,
 "nbformat_minor": 2
}
